{
 "cells": [
  {
   "cell_type": "markdown",
   "id": "773d68ce-a749-4d05-a460-136a6b25ca65",
   "metadata": {},
   "source": [
    "# Uber Trips Analysis"
   ]
  },
  {
   "cell_type": "code",
   "execution_count": null,
   "id": "17fac01e-7da5-4146-bbd7-f1ffb8b8b14b",
   "metadata": {},
   "outputs": [],
   "source": []
  }
 ],
 "metadata": {
  "kernelspec": {
   "display_name": "Python 3 (ipykernel)",
   "language": "python",
   "name": "python3"
  },
  "language_info": {
   "codemirror_mode": {
    "name": "ipython",
    "version": 3
   },
   "file_extension": ".py",
   "mimetype": "text/x-python",
   "name": "python",
   "nbconvert_exporter": "python",
   "pygments_lexer": "ipython3",
   "version": "3.11.7"
  }
 },
 "nbformat": 4,
 "nbformat_minor": 5
}
